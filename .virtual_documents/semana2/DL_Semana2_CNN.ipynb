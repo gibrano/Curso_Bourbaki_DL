import tensorflow as tf
import numpy as np
import matplotlib.pyplot as plt





(x_train, y_train), (x_test, y_test) = tf.keras.datasets.mnist.load_data()

x_train = x_train.astype("float32") / 255.0
x_test = x_test.astype("float32") / 255.0
x_train = np.expand_dims(x_train, -1)  # [N,28,28,1]
x_test = np.expand_dims(x_test, -1)



Familiarizarnos, conv, stride, polling, ...


y_train





inputs = tf.keras.Input(shape=(28,28,1))
x = tf.keras.layers.Conv2D(8, (3,3), activation="relu")(inputs)
x = tf.keras.layers.MaxPooling2D((2,2))(x)
x = tf.keras.layers.Flatten()(x)
x = tf.keras.layers.Dense(32, activation="relu")(x)
outputs = tf.keras.layers.Dense(10, activation="softmax")(x)

model = tf.keras.Model(inputs=inputs, outputs=outputs)

model.compile(optimizer="adam", loss="sparse_categorical_crossentropy", metrics=["accuracy"])





model.fit(x_train, y_train, epochs=20, batch_size=128, validation_split=0.1)





filters, biases = model.layers[1].get_weights()
print("Forma de los filtros:", filters.shape)


filters[:,:, 0, 0]





def fft2_magnitude(kernel):
    fft2 = tf.signal.fft2d(tf.cast(kernel, tf.complex64))
    return tf.abs(tf.signal.fftshift(fft2)).numpy()

plt.figure(figsize=(12,6))
for i in range(filters.shape[-1]):  # cada filtro
    f = filters[:, :, 0, i]

    # FFT del filtro
    f_fft = fft2_magnitude(f)

    # Plot filtro
    plt.subplot(2, filters.shape[-1], i+1)
    plt.imshow(f, cmap="gray")
    plt.axis("off")
    plt.title(f"Filtro {i}")

    # Plot FFT
    plt.subplot(2, filters.shape[-1], i+1+filters.shape[-1])
    plt.imshow(f_fft, cmap="inferno")
    plt.axis("off")
    plt.title(f"FFT {i}")

plt.tight_layout()
plt.show()









img = x_test[0:1]


first_layer = model.layers[1]

activation_model = tf.keras.Model(inputs=model.input,
                                  outputs=first_layer.output)

activations = activation_model.predict(img)

activations.shape


activations = activation_model.predict(img)

print("Forma de la activación:", activations.shape)

plt.figure(figsize=(12,6))
for i in range(activations.shape[-1]):
    plt.subplot(2, 4, i+1)
    plt.imshow(activations[0,:,:,i], cmap="gray")
    plt.axis("off")
    plt.title(f"Filtro {i}")

plt.tight_layout()
plt.show()


activations.shape


plt.imshow(img[0], cmap="gray")
