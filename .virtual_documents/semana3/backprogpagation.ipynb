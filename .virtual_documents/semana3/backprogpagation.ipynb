import tensorflow as tf
import numpy as np
import matplotlib.pyplot as plt


np.random.seed(42)
x = np.random.uniform(-1, 1, (100, 3)).astype(np.float32)
y = np.sum(x**2, axis=1, keepdims=True).astype(np.float32)  # y = x1^2 + x2^2 + x3^2

#x = np.linspace(-1, 1, 100).reshape(-1, 1).astype(np.float32)
#y = (x ** 2).astype(np.float32)



# ---- Inicialización de pesos ----
W1 = tf.Variable(tf.random.normal([3, 10], stddev=0.1))
b1 = tf.Variable(tf.zeros([10]))

W2 = tf.Variable(tf.random.normal([10, 8], stddev=0.1))
b2 = tf.Variable(tf.zeros([8]))

W3 = tf.Variable(tf.random.normal([8, 1], stddev=0.1))
b3 = tf.Variable(tf.zeros([1]))



W1


b1


tf.matmul(x, W1).shape








def forward(x):
    # Capa 1
    z1 = tf.matmul(x, W1) + b1      # (100,3)*(3,10)=(100,10)
    h1 = tf.nn.relu(z1)             # (100,10)
    # Capa 2
    z2 = tf.matmul(h1, W2) + b2     # (100,10)*(10,8)=(100,8)
    h2 = tf.nn.relu(z2)             # (100,8)
    # Capa de salida
    z3 = tf.matmul(h2, W3) + b3     # (100,8)*(8,1)=(100,1)
    return z1, h1, z2, h2, z3


z1, h1, z2, h2, z3 = forward(x)


print(z1.shape, h1.shape)


print(z2.shape, h2.shape)


print(z3.shape)


# ---- Entrenamiento ----
lr = 0.1
epochs = 400

for epoch in range(epochs):
    # Forward
    z1, h1, z2, h2, y_pred = forward(x)
    loss = tf.reduce_mean((y - y_pred)**2)

    # ---- Backpropagation ----
    # dL/dy_pred
    dL_dy = 2 * (y_pred - y) / x.shape[0]  # (100,1)

    # --- Gradientes para capa 3 (salida) ---
    dL_dW3 = tf.matmul(tf.transpose(h2), dL_dy)  # (8,100)*(100,1)=(8,1)
    dL_db3 = tf.reduce_sum(dL_dy, axis=0)        # (1,)

    # --- Gradientes para capa 2 ---
    dL_dh2 = tf.matmul(dL_dy, tf.transpose(W3))  # (100,1)*(1,8)=(100,8)
    dh2_dz2 = tf.cast(z2 > 0, tf.float32)        # derivada ReLU
    dL_dz2 = dL_dh2 * dh2_dz2                    # (100,8)

    dL_dW2 = tf.matmul(tf.transpose(h1), dL_dz2) # (10,100)*(100,8)=(10,8)
    dL_db2 = tf.reduce_sum(dL_dz2, axis=0)       # (8,)

    # --- Gradientes para capa 1 ---
    dL_dh1 = tf.matmul(dL_dz2, tf.transpose(W2)) # (100,8)*(8,10)=(100,10)
    dh1_dz1 = tf.cast(z1 > 0, tf.float32)
    dL_dz1 = dL_dh1 * dh1_dz1                    # (100,10)

    dL_dW1 = tf.matmul(tf.transpose(x), dL_dz1)  # (3,100)*(100,10)=(3,10)
    dL_db1 = tf.reduce_sum(dL_dz1, axis=0)       # (10,)

    # ---- Actualización de pesos ----
    W1.assign_sub(lr * dL_dW1)
    b1.assign_sub(lr * dL_db1)
    W2.assign_sub(lr * dL_dW2)
    b2.assign_sub(lr * dL_db2)
    W3.assign_sub(lr * dL_dW3)
    b3.assign_sub(lr * dL_db3)

    # ---- Monitoreo ----
    if epoch % 50 == 0:
        print(f"Epoch {epoch:3d} | Loss: {loss.numpy():.6f}")




# ---- Evaluación ----
_, _, _, _, y_pred = forward(x)
plt.plot(y, y_pred, 'ro')
plt.xlabel("True y")
plt.ylabel("Predicted y")
plt.title("Predicted vs True (2 hidden layers)")
plt.grid()
plt.show()



