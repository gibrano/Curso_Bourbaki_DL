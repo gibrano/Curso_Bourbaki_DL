{
 "cells": [
  {
   "cell_type": "code",
   "execution_count": 2,
   "id": "19d8671f-ff03-4428-bfb7-070bbf2ce0ef",
   "metadata": {},
   "outputs": [
    {
     "name": "stderr",
     "output_type": "stream",
     "text": [
      "2025-10-01 11:53:26.850845: E external/local_xla/xla/stream_executor/cuda/cuda_fft.cc:467] Unable to register cuFFT factory: Attempting to register factory for plugin cuFFT when one has already been registered\n",
      "WARNING: All log messages before absl::InitializeLog() is called are written to STDERR\n",
      "E0000 00:00:1759341206.869364 1380430 cuda_dnn.cc:8579] Unable to register cuDNN factory: Attempting to register factory for plugin cuDNN when one has already been registered\n",
      "E0000 00:00:1759341206.874796 1380430 cuda_blas.cc:1407] Unable to register cuBLAS factory: Attempting to register factory for plugin cuBLAS when one has already been registered\n",
      "W0000 00:00:1759341206.889320 1380430 computation_placer.cc:177] computation placer already registered. Please check linkage and avoid linking the same target more than once.\n",
      "W0000 00:00:1759341206.889345 1380430 computation_placer.cc:177] computation placer already registered. Please check linkage and avoid linking the same target more than once.\n",
      "W0000 00:00:1759341206.889347 1380430 computation_placer.cc:177] computation placer already registered. Please check linkage and avoid linking the same target more than once.\n",
      "W0000 00:00:1759341206.889349 1380430 computation_placer.cc:177] computation placer already registered. Please check linkage and avoid linking the same target more than once.\n",
      "2025-10-01 11:53:26.893822: I tensorflow/core/platform/cpu_feature_guard.cc:210] This TensorFlow binary is optimized to use available CPU instructions in performance-critical operations.\n",
      "To enable the following instructions: AVX2 FMA, in other operations, rebuild TensorFlow with the appropriate compiler flags.\n"
     ]
    }
   ],
   "source": [
    "import tensorflow as tf\n",
    "import numpy as np\n",
    "import matplotlib.pyplot as plt"
   ]
  },
  {
   "cell_type": "markdown",
   "id": "f2955b1b-8c40-4a42-9d94-d40ed5d39a41",
   "metadata": {},
   "source": [
    "# Dataset MNIST"
   ]
  },
  {
   "cell_type": "code",
   "execution_count": 3,
   "id": "e3185d58-224e-46d2-9d70-af50260198a5",
   "metadata": {},
   "outputs": [],
   "source": [
    "(x_train, y_train), (x_test, y_test) = tf.keras.datasets.mnist.load_data()\n",
    "\n",
    "x_train = x_train.astype(\"float32\") / 255.0\n",
    "x_test = x_test.astype(\"float32\") / 255.0\n",
    "x_train = np.expand_dims(x_train, -1)  # [N,28,28,1]\n",
    "x_test = np.expand_dims(x_test, -1)\n"
   ]
  },
  {
   "cell_type": "code",
   "execution_count": null,
   "id": "39934947-12cd-4ba6-8990-4188af2f6947",
   "metadata": {},
   "outputs": [],
   "source": [
    "Familiarizarnos, conv, stride, polling, ..."
   ]
  },
  {
   "cell_type": "code",
   "execution_count": 34,
   "id": "49701674-26f6-4ce7-bb59-657f79f988f0",
   "metadata": {},
   "outputs": [
    {
     "data": {
      "text/plain": [
       "array([5, 0, 4, ..., 5, 6, 8], dtype=uint8)"
      ]
     },
     "execution_count": 34,
     "metadata": {},
     "output_type": "execute_result"
    }
   ],
   "source": [
    "y_train"
   ]
  },
  {
   "cell_type": "markdown",
   "id": "896d757f-2488-43b1-a3db-f668971fe1b1",
   "metadata": {},
   "source": [
    "# CNN model"
   ]
  },
  {
   "cell_type": "code",
   "execution_count": 37,
   "id": "b1cea03c-e0f8-44f4-80c0-812c00406cdd",
   "metadata": {},
   "outputs": [],
   "source": [
    "inputs = tf.keras.Input(shape=(28,28,1))\n",
    "x = tf.keras.layers.Conv2D(8, (3,3), activation=\"relu\")(inputs)\n",
    "x = tf.keras.layers.MaxPooling2D((2,2))(x)\n",
    "x = tf.keras.layers.Flatten()(x)\n",
    "x = tf.keras.layers.Dense(32, activation=\"relu\")(x)\n",
    "outputs = tf.keras.layers.Dense(10, activation=\"softmax\")(x)\n",
    "\n",
    "model = tf.keras.Model(inputs=inputs, outputs=outputs)\n",
    "\n",
    "model.compile(optimizer=\"adam\", loss=\"sparse_categorical_crossentropy\", metrics=[\"accuracy\"])"
   ]
  },
  {
   "cell_type": "markdown",
   "id": "22d9f521-1529-44b3-ba79-def7eec1dded",
   "metadata": {},
   "source": [
    "# Training"
   ]
  },
  {
   "cell_type": "code",
   "execution_count": 38,
   "id": "827b3857-6172-4e97-aff1-698cf56457b2",
   "metadata": {},
   "outputs": [
    {
     "name": "stdout",
     "output_type": "stream",
     "text": [
      "Epoch 1/20\n",
      "\u001b[1m422/422\u001b[0m \u001b[32m━━━━━━━━━━━━━━━━━━━━\u001b[0m\u001b[37m\u001b[0m \u001b[1m4s\u001b[0m 7ms/step - accuracy: 0.7605 - loss: 0.8495 - val_accuracy: 0.9565 - val_loss: 0.1617\n",
      "Epoch 2/20\n",
      "\u001b[1m422/422\u001b[0m \u001b[32m━━━━━━━━━━━━━━━━━━━━\u001b[0m\u001b[37m\u001b[0m \u001b[1m1s\u001b[0m 2ms/step - accuracy: 0.9502 - loss: 0.1741 - val_accuracy: 0.9713 - val_loss: 0.1089\n",
      "Epoch 3/20\n",
      "\u001b[1m422/422\u001b[0m \u001b[32m━━━━━━━━━━━━━━━━━━━━\u001b[0m\u001b[37m\u001b[0m \u001b[1m1s\u001b[0m 2ms/step - accuracy: 0.9677 - loss: 0.1099 - val_accuracy: 0.9773 - val_loss: 0.0844\n",
      "Epoch 4/20\n",
      "\u001b[1m422/422\u001b[0m \u001b[32m━━━━━━━━━━━━━━━━━━━━\u001b[0m\u001b[37m\u001b[0m \u001b[1m1s\u001b[0m 2ms/step - accuracy: 0.9755 - loss: 0.0850 - val_accuracy: 0.9737 - val_loss: 0.0903\n",
      "Epoch 5/20\n",
      "\u001b[1m422/422\u001b[0m \u001b[32m━━━━━━━━━━━━━━━━━━━━\u001b[0m\u001b[37m\u001b[0m \u001b[1m1s\u001b[0m 2ms/step - accuracy: 0.9789 - loss: 0.0720 - val_accuracy: 0.9807 - val_loss: 0.0734\n",
      "Epoch 6/20\n",
      "\u001b[1m422/422\u001b[0m \u001b[32m━━━━━━━━━━━━━━━━━━━━\u001b[0m\u001b[37m\u001b[0m \u001b[1m1s\u001b[0m 3ms/step - accuracy: 0.9816 - loss: 0.0634 - val_accuracy: 0.9812 - val_loss: 0.0655\n",
      "Epoch 7/20\n",
      "\u001b[1m422/422\u001b[0m \u001b[32m━━━━━━━━━━━━━━━━━━━━\u001b[0m\u001b[37m\u001b[0m \u001b[1m1s\u001b[0m 2ms/step - accuracy: 0.9847 - loss: 0.0528 - val_accuracy: 0.9823 - val_loss: 0.0639\n",
      "Epoch 8/20\n",
      "\u001b[1m422/422\u001b[0m \u001b[32m━━━━━━━━━━━━━━━━━━━━\u001b[0m\u001b[37m\u001b[0m \u001b[1m1s\u001b[0m 2ms/step - accuracy: 0.9859 - loss: 0.0480 - val_accuracy: 0.9832 - val_loss: 0.0646\n",
      "Epoch 9/20\n",
      "\u001b[1m422/422\u001b[0m \u001b[32m━━━━━━━━━━━━━━━━━━━━\u001b[0m\u001b[37m\u001b[0m \u001b[1m1s\u001b[0m 2ms/step - accuracy: 0.9879 - loss: 0.0419 - val_accuracy: 0.9835 - val_loss: 0.0608\n",
      "Epoch 10/20\n",
      "\u001b[1m422/422\u001b[0m \u001b[32m━━━━━━━━━━━━━━━━━━━━\u001b[0m\u001b[37m\u001b[0m \u001b[1m1s\u001b[0m 2ms/step - accuracy: 0.9888 - loss: 0.0361 - val_accuracy: 0.9837 - val_loss: 0.0588\n",
      "Epoch 11/20\n",
      "\u001b[1m422/422\u001b[0m \u001b[32m━━━━━━━━━━━━━━━━━━━━\u001b[0m\u001b[37m\u001b[0m \u001b[1m1s\u001b[0m 2ms/step - accuracy: 0.9897 - loss: 0.0349 - val_accuracy: 0.9830 - val_loss: 0.0636\n",
      "Epoch 12/20\n",
      "\u001b[1m422/422\u001b[0m \u001b[32m━━━━━━━━━━━━━━━━━━━━\u001b[0m\u001b[37m\u001b[0m \u001b[1m1s\u001b[0m 2ms/step - accuracy: 0.9912 - loss: 0.0319 - val_accuracy: 0.9822 - val_loss: 0.0645\n",
      "Epoch 13/20\n",
      "\u001b[1m422/422\u001b[0m \u001b[32m━━━━━━━━━━━━━━━━━━━━\u001b[0m\u001b[37m\u001b[0m \u001b[1m1s\u001b[0m 2ms/step - accuracy: 0.9916 - loss: 0.0274 - val_accuracy: 0.9838 - val_loss: 0.0630\n",
      "Epoch 14/20\n",
      "\u001b[1m422/422\u001b[0m \u001b[32m━━━━━━━━━━━━━━━━━━━━\u001b[0m\u001b[37m\u001b[0m \u001b[1m1s\u001b[0m 2ms/step - accuracy: 0.9936 - loss: 0.0227 - val_accuracy: 0.9833 - val_loss: 0.0624\n",
      "Epoch 15/20\n",
      "\u001b[1m422/422\u001b[0m \u001b[32m━━━━━━━━━━━━━━━━━━━━\u001b[0m\u001b[37m\u001b[0m \u001b[1m1s\u001b[0m 2ms/step - accuracy: 0.9931 - loss: 0.0228 - val_accuracy: 0.9847 - val_loss: 0.0616\n",
      "Epoch 16/20\n",
      "\u001b[1m422/422\u001b[0m \u001b[32m━━━━━━━━━━━━━━━━━━━━\u001b[0m\u001b[37m\u001b[0m \u001b[1m1s\u001b[0m 2ms/step - accuracy: 0.9942 - loss: 0.0203 - val_accuracy: 0.9810 - val_loss: 0.0727\n",
      "Epoch 17/20\n",
      "\u001b[1m422/422\u001b[0m \u001b[32m━━━━━━━━━━━━━━━━━━━━\u001b[0m\u001b[37m\u001b[0m \u001b[1m1s\u001b[0m 3ms/step - accuracy: 0.9951 - loss: 0.0177 - val_accuracy: 0.9835 - val_loss: 0.0693\n",
      "Epoch 18/20\n",
      "\u001b[1m422/422\u001b[0m \u001b[32m━━━━━━━━━━━━━━━━━━━━\u001b[0m\u001b[37m\u001b[0m \u001b[1m1s\u001b[0m 2ms/step - accuracy: 0.9959 - loss: 0.0150 - val_accuracy: 0.9803 - val_loss: 0.0760\n",
      "Epoch 19/20\n",
      "\u001b[1m422/422\u001b[0m \u001b[32m━━━━━━━━━━━━━━━━━━━━\u001b[0m\u001b[37m\u001b[0m \u001b[1m1s\u001b[0m 2ms/step - accuracy: 0.9961 - loss: 0.0152 - val_accuracy: 0.9833 - val_loss: 0.0755\n",
      "Epoch 20/20\n",
      "\u001b[1m422/422\u001b[0m \u001b[32m━━━━━━━━━━━━━━━━━━━━\u001b[0m\u001b[37m\u001b[0m \u001b[1m1s\u001b[0m 2ms/step - accuracy: 0.9966 - loss: 0.0130 - val_accuracy: 0.9825 - val_loss: 0.0746\n"
     ]
    },
    {
     "data": {
      "text/plain": [
       "<keras.src.callbacks.history.History at 0x7e1c213116f0>"
      ]
     },
     "execution_count": 38,
     "metadata": {},
     "output_type": "execute_result"
    }
   ],
   "source": [
    "model.fit(x_train, y_train, epochs=20, batch_size=128, validation_split=0.1)"
   ]
  },
  {
   "cell_type": "markdown",
   "id": "e1a7c464-97dc-44d9-9e7d-8e13a67963d1",
   "metadata": {},
   "source": [
    "# Extraemos filtros de la primera capa"
   ]
  },
  {
   "cell_type": "code",
   "execution_count": 23,
   "id": "c51cfaf0-1b67-4a1e-921c-41f30c1aada9",
   "metadata": {},
   "outputs": [
    {
     "name": "stdout",
     "output_type": "stream",
     "text": [
      "Forma de los filtros: (3, 3, 1, 8)\n"
     ]
    }
   ],
   "source": [
    "filters, biases = model.layers[1].get_weights()\n",
    "print(\"Forma de los filtros:\", filters.shape)"
   ]
  },
  {
   "cell_type": "code",
   "execution_count": 24,
   "id": "7e2d64ed-295c-435a-9f09-617fad1476cd",
   "metadata": {},
   "outputs": [
    {
     "data": {
      "text/plain": [
       "array([[-0.13380331,  0.24014363,  0.20334396],\n",
       "       [ 0.37917832,  0.01245279,  0.24822968],\n",
       "       [-0.3483699 , -0.29127902, -0.04950737]], dtype=float32)"
      ]
     },
     "execution_count": 24,
     "metadata": {},
     "output_type": "execute_result"
    }
   ],
   "source": [
    "filters[:,:, 0, 0]"
   ]
  },
  {
   "cell_type": "markdown",
   "id": "d1814e12-29f3-492d-b4bb-68dc15cae802",
   "metadata": {},
   "source": [
    "# Visualizamos filtros y sus FFT"
   ]
  },
  {
   "cell_type": "code",
   "execution_count": 25,
   "id": "e9080308-0ce4-48b0-a494-c8c24911007e",
   "metadata": {},
   "outputs": [
    {
     "data": {
      "image/png": "[encoded data removed]",
      "text/plain": [
       "<Figure size 1200x600 with 16 Axes>"
      ]
     },
     "metadata": {},
     "output_type": "display_data"
    }
   ],
   "source": [
    "def fft2_magnitude(kernel):\n",
    "    fft2 = tf.signal.fft2d(tf.cast(kernel, tf.complex64))\n",
    "    return tf.abs(tf.signal.fftshift(fft2)).numpy()\n",
    "\n",
    "plt.figure(figsize=(12,6))\n",
    "for i in range(filters.shape[-1]):  # cada filtro\n",
    "    f = filters[:, :, 0, i]\n",
    "\n",
    "    # FFT del filtro\n",
    "    f_fft = fft2_magnitude(f)\n",
    "\n",
    "    # Plot filtro\n",
    "    plt.subplot(2, filters.shape[-1], i+1)\n",
    "    plt.imshow(f, cmap=\"gray\")\n",
    "    plt.axis(\"off\")\n",
    "    plt.title(f\"Filtro {i}\")\n",
    "\n",
    "    # Plot FFT\n",
    "    plt.subplot(2, filters.shape[-1], i+1+filters.shape[-1])\n",
    "    plt.imshow(f_fft, cmap=\"inferno\")\n",
    "    plt.axis(\"off\")\n",
    "    plt.title(f\"FFT {i}\")\n",
    "\n",
    "plt.tight_layout()\n",
    "plt.show()\n"
   ]
  },
  {
   "cell_type": "code",
   "execution_count": null,
   "id": "04d36bd6-1002-457e-ba47-9473821ac851",
   "metadata": {},
   "outputs": [],
   "source": []
  },
  {
   "cell_type": "markdown",
   "id": "b77183f6-ec26-4715-8318-371390de75de",
   "metadata": {},
   "source": [
    "# Ejemplo de una convolución con una imagen"
   ]
  },
  {
   "cell_type": "code",
   "execution_count": 10,
   "id": "9a425c86-190f-4af6-94f1-035c84bfc1e6",
   "metadata": {},
   "outputs": [],
   "source": [
    "img = x_test[0:1]"
   ]
  },
  {
   "cell_type": "code",
   "execution_count": 27,
   "id": "4a0361d2-bf0b-405e-8a38-905512d9e44e",
   "metadata": {},
   "outputs": [
    {
     "name": "stdout",
     "output_type": "stream",
     "text": [
      "\u001b[1m1/1\u001b[0m \u001b[32m━━━━━━━━━━━━━━━━━━━━\u001b[0m\u001b[37m\u001b[0m \u001b[1m0s\u001b[0m 148ms/step\n"
     ]
    },
    {
     "data": {
      "text/plain": [
       "(1, 26, 26, 8)"
      ]
     },
     "execution_count": 27,
     "metadata": {},
     "output_type": "execute_result"
    }
   ],
   "source": [
    "first_layer = model.layers[1]\n",
    "\n",
    "activation_model = tf.keras.Model(inputs=model.input,\n",
    "                                  outputs=first_layer.output)\n",
    "\n",
    "activations = activation_model.predict(img)\n",
    "\n",
    "activations.shape"
   ]
  },
  {
   "cell_type": "code",
   "execution_count": 28,
   "id": "d54aa363-6274-4220-b1bc-e837b605a499",
   "metadata": {},
   "outputs": [
    {
     "name": "stdout",
     "output_type": "stream",
     "text": [
      "\u001b[1m1/1\u001b[0m \u001b[32m━━━━━━━━━━━━━━━━━━━━\u001b[0m\u001b[37m\u001b[0m \u001b[1m0s\u001b[0m 28ms/step\n",
      "Forma de la activación: (1, 26, 26, 8)\n"
     ]
    },
    {
     "data": {
      "image/png": "[encoded data removed]",
      "text/plain": [
       "<Figure size 1200x600 with 8 Axes>"
      ]
     },
     "metadata": {},
     "output_type": "display_data"
    }
   ],
   "source": [
    "activations = activation_model.predict(img)\n",
    "\n",
    "print(\"Forma de la activación:\", activations.shape)\n",
    "\n",
    "plt.figure(figsize=(12,6))\n",
    "for i in range(activations.shape[-1]):\n",
    "    plt.subplot(2, 4, i+1)\n",
    "    plt.imshow(activations[0,:,:,i], cmap=\"gray\")\n",
    "    plt.axis(\"off\")\n",
    "    plt.title(f\"Filtro {i}\")\n",
    "\n",
    "plt.tight_layout()\n",
    "plt.show()"
   ]
  },
  {
   "cell_type": "code",
   "execution_count": 29,
   "id": "d6300ae5-2cae-41a3-afdc-9e8d93a74b0b",
   "metadata": {},
   "outputs": [
    {
     "data": {
      "text/plain": [
       "(1, 26, 26, 8)"
      ]
     },
     "execution_count": 29,
     "metadata": {},
     "output_type": "execute_result"
    }
   ],
   "source": [
    "activations.shape"
   ]
  },
  {
   "cell_type": "code",
   "execution_count": 33,
   "id": "18538c1b-e8df-47ce-9374-771dd5787380",
   "metadata": {},
   "outputs": [
    {
     "data": {
      "text/plain": [
       "<matplotlib.image.AxesImage at 0x7e1fcc3999c0>"
      ]
     },
     "execution_count": 33,
     "metadata": {},
     "output_type": "execute_result"
    },
    {
     "data": {
      "image/png": "[encoded data removed]",
      "text/plain": [
       "<Figure size 640x480 with 1 Axes>"
      ]
     },
     "metadata": {},
     "output_type": "display_data"
    }
   ],
   "source": [
    "plt.imshow(img[0], cmap=\"gray\")"
   ]
  }
 ],
 "metadata": {
  "kernelspec": {
   "display_name": "Python (TF 2.19)",
   "language": "python",
   "name": "tf219"
  },
  "language_info": {
   "codemirror_mode": {
    "name": "ipython",
    "version": 3
   },
   "file_extension": ".py",
   "mimetype": "text/x-python",
   "name": "python",
   "nbconvert_exporter": "python",
   "pygments_lexer": "ipython3",
   "version": "3.10.16"
  }
 },
 "nbformat": 4,
 "nbformat_minor": 5
}
