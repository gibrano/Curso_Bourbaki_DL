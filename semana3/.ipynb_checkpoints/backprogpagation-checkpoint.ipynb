{
 "cells": [
  {
   "cell_type": "code",
   "execution_count": 1,
   "id": "0657c758-6737-460a-9dea-f6b70ea031f0",
   "metadata": {},
   "outputs": [
    {
     "name": "stderr",
     "output_type": "stream",
     "text": [
      "2025-10-09 17:29:08.221073: E external/local_xla/xla/stream_executor/cuda/cuda_fft.cc:467] Unable to register cuFFT factory: Attempting to register factory for plugin cuFFT when one has already been registered\n",
      "WARNING: All log messages before absl::InitializeLog() is called are written to STDERR\n",
      "E0000 00:00:1760052548.239940 1430322 cuda_dnn.cc:8579] Unable to register cuDNN factory: Attempting to register factory for plugin cuDNN when one has already been registered\n",
      "E0000 00:00:1760052548.245791 1430322 cuda_blas.cc:1407] Unable to register cuBLAS factory: Attempting to register factory for plugin cuBLAS when one has already been registered\n",
      "W0000 00:00:1760052548.260108 1430322 computation_placer.cc:177] computation placer already registered. Please check linkage and avoid linking the same target more than once.\n",
      "W0000 00:00:1760052548.260135 1430322 computation_placer.cc:177] computation placer already registered. Please check linkage and avoid linking the same target more than once.\n",
      "W0000 00:00:1760052548.260137 1430322 computation_placer.cc:177] computation placer already registered. Please check linkage and avoid linking the same target more than once.\n",
      "W0000 00:00:1760052548.260139 1430322 computation_placer.cc:177] computation placer already registered. Please check linkage and avoid linking the same target more than once.\n",
      "2025-10-09 17:29:08.264981: I tensorflow/core/platform/cpu_feature_guard.cc:210] This TensorFlow binary is optimized to use available CPU instructions in performance-critical operations.\n",
      "To enable the following instructions: AVX2 FMA, in other operations, rebuild TensorFlow with the appropriate compiler flags.\n"
     ]
    }
   ],
   "source": [
    "import tensorflow as tf\n",
    "import numpy as np\n",
    "import matplotlib.pyplot as plt"
   ]
  },
  {
   "cell_type": "code",
   "execution_count": 2,
   "id": "47cafd6a-aea7-43f9-a528-825e796013ea",
   "metadata": {},
   "outputs": [],
   "source": [
    "np.random.seed(42)\n",
    "x = np.random.uniform(-1, 1, (100, 3)).astype(np.float32)\n",
    "y = np.sum(x**2, axis=1, keepdims=True).astype(np.float32)  # y = x1^2 + x2^2 + x3^2\n",
    "\n",
    "#x = np.linspace(-1, 1, 100).reshape(-1, 1).astype(np.float32)\n",
    "#y = (x ** 2).astype(np.float32)\n"
   ]
  },
  {
   "cell_type": "code",
   "execution_count": 3,
   "id": "85ff435a-c7ec-4d1b-a108-d335ce7a7b91",
   "metadata": {},
   "outputs": [
    {
     "name": "stderr",
     "output_type": "stream",
     "text": [
      "I0000 00:00:1760052551.204071 1430322 gpu_device.cc:2019] Created device /job:localhost/replica:0/task:0/device:GPU:0 with 13622 MB memory:  -> device: 0, name: NVIDIA GeForce RTX 4070 Ti SUPER, pci bus id: 0000:07:00.0, compute capability: 8.9\n"
     ]
    }
   ],
   "source": [
    "# ---- Inicialización de pesos ----\n",
    "W1 = tf.Variable(tf.random.normal([3, 10], stddev=0.1))\n",
    "b1 = tf.Variable(tf.zeros([10]))\n",
    "\n",
    "W2 = tf.Variable(tf.random.normal([10, 8], stddev=0.1))\n",
    "b2 = tf.Variable(tf.zeros([8]))\n",
    "\n",
    "W3 = tf.Variable(tf.random.normal([8, 1], stddev=0.1))\n",
    "b3 = tf.Variable(tf.zeros([1]))\n"
   ]
  },
  {
   "cell_type": "code",
   "execution_count": 5,
   "id": "e4418bcb-fc03-4320-b268-69d75f3b1c5c",
   "metadata": {},
   "outputs": [
    {
     "data": {
      "text/plain": [
       "<tf.Variable 'Variable:0' shape=(3, 10) dtype=float32, numpy=\n",
       "array([[ 0.0341651 ,  0.0168024 ,  0.2086979 , -0.02945756, -0.03850777,\n",
       "         0.06217076,  0.02449598,  0.23318322, -0.05444796,  0.13994756],\n",
       "       [-0.0933397 ,  0.0982366 , -0.08192704, -0.0293445 ,  0.00881993,\n",
       "        -0.04971321, -0.05760462,  0.05654211, -0.13624793,  0.14025192],\n",
       "       [-0.01364903, -0.1654504 ,  0.10153701, -0.01731155,  0.07539847,\n",
       "        -0.01475736,  0.08682542, -0.02373941,  0.10944682,  0.07193029]],\n",
       "      dtype=float32)>"
      ]
     },
     "execution_count": 5,
     "metadata": {},
     "output_type": "execute_result"
    }
   ],
   "source": [
    "W1"
   ]
  },
  {
   "cell_type": "code",
   "execution_count": 4,
   "id": "2979c6cc-0890-4527-bb42-c312ac06c4fc",
   "metadata": {},
   "outputs": [
    {
     "data": {
      "text/plain": [
       "<tf.Variable 'Variable:0' shape=(10,) dtype=float32, numpy=array([0., 0., 0., 0., 0., 0., 0., 0., 0., 0.], dtype=float32)>"
      ]
     },
     "execution_count": 4,
     "metadata": {},
     "output_type": "execute_result"
    }
   ],
   "source": [
    "b1"
   ]
  },
  {
   "cell_type": "code",
   "execution_count": 6,
   "id": "c740a349-7e43-4c75-86e8-8e152341d76d",
   "metadata": {},
   "outputs": [
    {
     "data": {
      "text/plain": [
       "TensorShape([100, 10])"
      ]
     },
     "execution_count": 6,
     "metadata": {},
     "output_type": "execute_result"
    }
   ],
   "source": [
    "tf.matmul(x, W1).shape"
   ]
  },
  {
   "cell_type": "markdown",
   "id": "71906f15-82e1-4313-8f91-491bd1e24772",
   "metadata": {},
   "source": [
    "# ---- Forward pass ----"
   ]
  },
  {
   "cell_type": "raw",
   "id": "b797ae64-960b-4d19-be5e-00a50a1fb693",
   "metadata": {},
   "source": [
    "Input (3)\n",
    "  ↓\n",
    "Hidden layer 1 (10 neuronas, ReLU)\n",
    "  ↓\n",
    "Hidden layer 2 (8 neuronas, ReLU)\n",
    "  ↓\n",
    "Output (1)\n"
   ]
  },
  {
   "cell_type": "code",
   "execution_count": 7,
   "id": "bcd2483d-ddc2-4b9e-926b-d872aa969ded",
   "metadata": {},
   "outputs": [],
   "source": [
    "def forward(x):\n",
    "    # Capa 1\n",
    "    z1 = tf.matmul(x, W1) + b1      # (100,3)*(3,10)=(100,10)\n",
    "    h1 = tf.nn.relu(z1)             # (100,10)\n",
    "    # Capa 2\n",
    "    z2 = tf.matmul(h1, W2) + b2     # (100,10)*(10,8)=(100,8)\n",
    "    h2 = tf.nn.relu(z2)             # (100,8)\n",
    "    # Capa de salida\n",
    "    z3 = tf.matmul(h2, W3) + b3     # (100,8)*(8,1)=(100,1)\n",
    "    return z1, h1, z2, h2, z3"
   ]
  },
  {
   "cell_type": "code",
   "execution_count": 8,
   "id": "ba1c00e3-3b13-48c9-b780-3750eb81798d",
   "metadata": {},
   "outputs": [],
   "source": [
    "z1, h1, z2, h2, z3 = forward(x)"
   ]
  },
  {
   "cell_type": "code",
   "execution_count": 11,
   "id": "59dbdd8c-2c9f-4242-ab41-ad0eb870931e",
   "metadata": {},
   "outputs": [
    {
     "name": "stdout",
     "output_type": "stream",
     "text": [
      "(100, 10) (100, 10)\n"
     ]
    }
   ],
   "source": [
    "print(z1.shape, h1.shape)"
   ]
  },
  {
   "cell_type": "code",
   "execution_count": 12,
   "id": "e8e0a299-9745-469f-abe3-48f167f1a42c",
   "metadata": {},
   "outputs": [
    {
     "name": "stdout",
     "output_type": "stream",
     "text": [
      "(100, 8) (100, 8)\n"
     ]
    }
   ],
   "source": [
    "print(z2.shape, h2.shape)"
   ]
  },
  {
   "cell_type": "code",
   "execution_count": 13,
   "id": "a48d163f-096f-477b-a69e-825646fc73c2",
   "metadata": {},
   "outputs": [
    {
     "name": "stdout",
     "output_type": "stream",
     "text": [
      "(100, 1)\n"
     ]
    }
   ],
   "source": [
    "print(z3.shape)"
   ]
  },
  {
   "cell_type": "code",
   "execution_count": 14,
   "id": "df5270d0-1e3e-42b1-90a8-4f4a2ab9784e",
   "metadata": {},
   "outputs": [
    {
     "name": "stdout",
     "output_type": "stream",
     "text": [
      "Epoch   0 | Loss: 1.284435\n",
      "Epoch  50 | Loss: 0.212856\n",
      "Epoch 100 | Loss: 0.210949\n",
      "Epoch 150 | Loss: 0.207492\n",
      "Epoch 200 | Loss: 0.200985\n",
      "Epoch 250 | Loss: 0.188968\n",
      "Epoch 300 | Loss: 0.168962\n",
      "Epoch 350 | Loss: 0.134682\n"
     ]
    }
   ],
   "source": [
    "# ---- Entrenamiento ----\n",
    "lr = 0.1\n",
    "epochs = 400\n",
    "\n",
    "for epoch in range(epochs):\n",
    "    # Forward\n",
    "    z1, h1, z2, h2, y_pred = forward(x)\n",
    "    loss = tf.reduce_mean((y - y_pred)**2)\n",
    "\n",
    "    # ---- Backpropagation ----\n",
    "    # dL/dy_pred\n",
    "    dL_dy = 2 * (y_pred - y) / x.shape[0]  # (100,1)\n",
    "\n",
    "    # --- Gradientes para capa 3 (salida) ---\n",
    "    dL_dW3 = tf.matmul(tf.transpose(h2), dL_dy)  # (8,100)*(100,1)=(8,1)\n",
    "    dL_db3 = tf.reduce_sum(dL_dy, axis=0)        # (1,)\n",
    "\n",
    "    # --- Gradientes para capa 2 ---\n",
    "    dL_dh2 = tf.matmul(dL_dy, tf.transpose(W3))  # (100,1)*(1,8)=(100,8)\n",
    "    dh2_dz2 = tf.cast(z2 > 0, tf.float32)        # derivada ReLU\n",
    "    dL_dz2 = dL_dh2 * dh2_dz2                    # (100,8)\n",
    "\n",
    "    dL_dW2 = tf.matmul(tf.transpose(h1), dL_dz2) # (10,100)*(100,8)=(10,8)\n",
    "    dL_db2 = tf.reduce_sum(dL_dz2, axis=0)       # (8,)\n",
    "\n",
    "    # --- Gradientes para capa 1 ---\n",
    "    dL_dh1 = tf.matmul(dL_dz2, tf.transpose(W2)) # (100,8)*(8,10)=(100,10)\n",
    "    dh1_dz1 = tf.cast(z1 > 0, tf.float32)\n",
    "    dL_dz1 = dL_dh1 * dh1_dz1                    # (100,10)\n",
    "\n",
    "    dL_dW1 = tf.matmul(tf.transpose(x), dL_dz1)  # (3,100)*(100,10)=(3,10)\n",
    "    dL_db1 = tf.reduce_sum(dL_dz1, axis=0)       # (10,)\n",
    "\n",
    "    # ---- Actualización de pesos ----\n",
    "    W1.assign_sub(lr * dL_dW1)\n",
    "    b1.assign_sub(lr * dL_db1)\n",
    "    W2.assign_sub(lr * dL_dW2)\n",
    "    b2.assign_sub(lr * dL_db2)\n",
    "    W3.assign_sub(lr * dL_dW3)\n",
    "    b3.assign_sub(lr * dL_db3)\n",
    "\n",
    "    # ---- Monitoreo ----\n",
    "    if epoch % 50 == 0:\n",
    "        print(f\"Epoch {epoch:3d} | Loss: {loss.numpy():.6f}\")\n",
    "\n"
   ]
  },
  {
   "cell_type": "code",
   "execution_count": 15,
   "id": "a03d88a8-0bee-44a1-88e4-bac37b26fa29",
   "metadata": {},
   "outputs": [
    {
     "data": {
      "image/png": "[encoded data removed]",
      "text/plain": [
       "<Figure size 640x480 with 1 Axes>"
      ]
     },
     "metadata": {},
     "output_type": "display_data"
    }
   ],
   "source": [
    "# ---- Evaluación ----\n",
    "_, _, _, _, y_pred = forward(x)\n",
    "plt.plot(y, y_pred, 'ro')\n",
    "plt.xlabel(\"True y\")\n",
    "plt.ylabel(\"Predicted y\")\n",
    "plt.title(\"Predicted vs True (2 hidden layers)\")\n",
    "plt.grid()\n",
    "plt.show()"
   ]
  },
  {
   "cell_type": "code",
   "execution_count": null,
   "id": "8979008a-244e-42c8-aa3e-9bafbf856f17",
   "metadata": {},
   "outputs": [],
   "source": []
  }
 ],
 "metadata": {
  "kernelspec": {
   "display_name": "Python (TF 2.19)",
   "language": "python",
   "name": "tf219"
  },
  "language_info": {
   "codemirror_mode": {
    "name": "ipython",
    "version": 3
   },
   "file_extension": ".py",
   "mimetype": "text/x-python",
   "name": "python",
   "nbconvert_exporter": "python",
   "pygments_lexer": "ipython3",
   "version": "3.10.16"
  }
 },
 "nbformat": 4,
 "nbformat_minor": 5
}
