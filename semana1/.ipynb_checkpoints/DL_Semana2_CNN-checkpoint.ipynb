{
 "cells": [
  {
   "cell_type": "code",
   "execution_count": 8,
   "id": "19d8671f-ff03-4428-bfb7-070bbf2ce0ef",
   "metadata": {},
   "outputs": [],
   "source": [
    "import tensorflow as tf\n",
    "import numpy as np\n",
    "import matplotlib.pyplot as plt\n"
   ]
  },
  {
   "cell_type": "code",
   "execution_count": 9,
   "id": "e3185d58-224e-46d2-9d70-af50260198a5",
   "metadata": {},
   "outputs": [],
   "source": [
    "# -------------------------\n",
    "# 1. Dataset MNIST\n",
    "# -------------------------\n",
    "(x_train, y_train), (x_test, y_test) = tf.keras.datasets.mnist.load_data()\n",
    "\n",
    "# Normalizamos y añadimos canal\n",
    "x_train = x_train.astype(\"float32\") / 255.0\n",
    "x_test = x_test.astype(\"float32\") / 255.0\n",
    "x_train = np.expand_dims(x_train, -1)  # [N,28,28,1]\n",
    "x_test = np.expand_dims(x_test, -1)\n"
   ]
  },
  {
   "cell_type": "code",
   "execution_count": 10,
   "id": "b1cea03c-e0f8-44f4-80c0-812c00406cdd",
   "metadata": {},
   "outputs": [
    {
     "name": "stderr",
     "output_type": "stream",
     "text": [
      "/home/gibran/anaconda3/envs/tf219/lib/python3.10/site-packages/keras/src/layers/convolutional/base_conv.py:113: UserWarning: Do not pass an `input_shape`/`input_dim` argument to a layer. When using Sequential models, prefer using an `Input(shape)` object as the first layer in the model instead.\n",
      "  super().__init__(activity_regularizer=activity_regularizer, **kwargs)\n"
     ]
    }
   ],
   "source": [
    "# -------------------------\n",
    "# 2. Definir CNN simple\n",
    "# -------------------------\n",
    "model = tf.keras.Sequential([\n",
    "    tf.keras.layers.Conv2D(8, (3,3), activation=\"relu\", input_shape=(28,28,1)),\n",
    "    tf.keras.layers.MaxPooling2D((2,2)),\n",
    "    tf.keras.layers.Flatten(),\n",
    "    tf.keras.layers.Dense(32, activation=\"relu\"),\n",
    "    tf.keras.layers.Dense(10, activation=\"softmax\")\n",
    "])\n",
    "\n",
    "model.compile(optimizer=\"adam\", loss=\"sparse_categorical_crossentropy\", metrics=[\"accuracy\"])"
   ]
  },
  {
   "cell_type": "code",
   "execution_count": 11,
   "id": "827b3857-6172-4e97-aff1-698cf56457b2",
   "metadata": {},
   "outputs": [
    {
     "name": "stdout",
     "output_type": "stream",
     "text": [
      "Epoch 1/2\n"
     ]
    },
    {
     "name": "stderr",
     "output_type": "stream",
     "text": [
      "WARNING: All log messages before absl::InitializeLog() is called are written to STDERR\n",
      "I0000 00:00:1759269342.643790  698544 service.cc:152] XLA service 0x77c5f8006050 initialized for platform CUDA (this does not guarantee that XLA will be used). Devices:\n",
      "I0000 00:00:1759269342.643825  698544 service.cc:160]   StreamExecutor device (0): NVIDIA GeForce RTX 4070 Ti SUPER, Compute Capability 8.9\n",
      "2025-09-30 15:55:42.672814: I tensorflow/compiler/mlir/tensorflow/utils/dump_mlir_util.cc:269] disabling MLIR crash reproducer, set env var `MLIR_CRASH_REPRODUCER_DIRECTORY` to enable.\n"
     ]
    },
    {
     "name": "stdout",
     "output_type": "stream",
     "text": [
      "\u001b[1m 61/422\u001b[0m \u001b[32m━━\u001b[0m\u001b[37m━━━━━━━━━━━━━━━━━━\u001b[0m \u001b[1m0s\u001b[0m 3ms/step - accuracy: 0.4389 - loss: 1.9073"
     ]
    },
    {
     "name": "stderr",
     "output_type": "stream",
     "text": [
      "I0000 00:00:1759269344.893414  698544 device_compiler.h:188] Compiled cluster using XLA!  This line is logged at most once for the lifetime of the process.\n"
     ]
    },
    {
     "name": "stdout",
     "output_type": "stream",
     "text": [
      "\u001b[1m422/422\u001b[0m \u001b[32m━━━━━━━━━━━━━━━━━━━━\u001b[0m\u001b[37m\u001b[0m \u001b[1m7s\u001b[0m 10ms/step - accuracy: 0.7520 - loss: 0.8915 - val_accuracy: 0.9555 - val_loss: 0.1582\n",
      "Epoch 2/2\n",
      "\u001b[1m422/422\u001b[0m \u001b[32m━━━━━━━━━━━━━━━━━━━━\u001b[0m\u001b[37m\u001b[0m \u001b[1m1s\u001b[0m 2ms/step - accuracy: 0.9462 - loss: 0.1795 - val_accuracy: 0.9705 - val_loss: 0.1073\n"
     ]
    },
    {
     "data": {
      "text/plain": [
       "<keras.src.callbacks.history.History at 0x77c700041270>"
      ]
     },
     "execution_count": 11,
     "metadata": {},
     "output_type": "execute_result"
    }
   ],
   "source": [
    "# -------------------------\n",
    "# 3. Entrenamiento\n",
    "# -------------------------\n",
    "model.fit(x_train, y_train, epochs=2, batch_size=128, validation_split=0.1)"
   ]
  },
  {
   "cell_type": "code",
   "execution_count": 12,
   "id": "c51cfaf0-1b67-4a1e-921c-41f30c1aada9",
   "metadata": {},
   "outputs": [
    {
     "name": "stdout",
     "output_type": "stream",
     "text": [
      "Forma de los filtros: (3, 3, 1, 8)\n"
     ]
    }
   ],
   "source": [
    "# -------------------------\n",
    "# 4. Extraer filtros de la primera capa\n",
    "# -------------------------\n",
    "filters, biases = model.layers[0].get_weights()\n",
    "print(\"Forma de los filtros:\", filters.shape)  # (3,3,1,8)"
   ]
  },
  {
   "cell_type": "code",
   "execution_count": 18,
   "id": "7e2d64ed-295c-435a-9f09-617fad1476cd",
   "metadata": {},
   "outputs": [
    {
     "data": {
      "text/plain": [
       "array([[-0.13513498, -0.03498672,  0.06821281],\n",
       "       [ 0.3781521 ,  0.27637947,  0.09553769],\n",
       "       [-0.184549  ,  0.17962839,  0.19830488]], dtype=float32)"
      ]
     },
     "execution_count": 18,
     "metadata": {},
     "output_type": "execute_result"
    }
   ],
   "source": [
    "filters[:,:, 0, 0]"
   ]
  },
  {
   "cell_type": "code",
   "execution_count": 13,
   "id": "e9080308-0ce4-48b0-a494-c8c24911007e",
   "metadata": {},
   "outputs": [
    {
     "data": {
      "image/png": "[encoded data removed]",
      "text/plain": [
       "<Figure size 1200x600 with 16 Axes>"
      ]
     },
     "metadata": {},
     "output_type": "display_data"
    }
   ],
   "source": [
    "# -------------------------\n",
    "# 5. Visualizar filtros y sus FFT\n",
    "# -------------------------\n",
    "def fft2_magnitude(kernel):\n",
    "    fft2 = tf.signal.fft2d(tf.cast(kernel, tf.complex64))\n",
    "    return tf.abs(tf.signal.fftshift(fft2)).numpy()\n",
    "\n",
    "plt.figure(figsize=(12,6))\n",
    "for i in range(filters.shape[-1]):  # cada filtro\n",
    "    f = filters[:, :, 0, i]\n",
    "\n",
    "    # FFT del filtro\n",
    "    f_fft = fft2_magnitude(f)\n",
    "\n",
    "    # Plot filtro\n",
    "    plt.subplot(2, filters.shape[-1], i+1)\n",
    "    plt.imshow(f, cmap=\"gray\")\n",
    "    plt.axis(\"off\")\n",
    "    plt.title(f\"Filtro {i}\")\n",
    "\n",
    "    # Plot FFT\n",
    "    plt.subplot(2, filters.shape[-1], i+1+filters.shape[-1])\n",
    "    plt.imshow(f_fft, cmap=\"inferno\")\n",
    "    plt.axis(\"off\")\n",
    "    plt.title(f\"FFT {i}\")\n",
    "\n",
    "plt.tight_layout()\n",
    "plt.show()\n"
   ]
  },
  {
   "cell_type": "code",
   "execution_count": null,
   "id": "d54aa363-6274-4220-b1bc-e837b605a499",
   "metadata": {},
   "outputs": [],
   "source": []
  },
  {
   "cell_type": "code",
   "execution_count": null,
   "id": "b72e45ec-13f9-4e7c-866c-8a08abbafc2f",
   "metadata": {},
   "outputs": [],
   "source": []
  },
  {
   "cell_type": "code",
   "execution_count": null,
   "id": "d6300ae5-2cae-41a3-afdc-9e8d93a74b0b",
   "metadata": {},
   "outputs": [],
   "source": []
  }
 ],
 "metadata": {
  "kernelspec": {
   "display_name": "Python (TF 2.19)",
   "language": "python",
   "name": "tf219"
  },
  "language_info": {
   "codemirror_mode": {
    "name": "ipython",
    "version": 3
   },
   "file_extension": ".py",
   "mimetype": "text/x-python",
   "name": "python",
   "nbconvert_exporter": "python",
   "pygments_lexer": "ipython3",
   "version": "3.10.16"
  }
 },
 "nbformat": 4,
 "nbformat_minor": 5
}
